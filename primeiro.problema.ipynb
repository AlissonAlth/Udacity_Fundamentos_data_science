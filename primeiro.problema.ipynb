{
 "cells": [
  {
   "cell_type": "code",
   "execution_count": 1,
   "metadata": {
    "collapsed": false
   },
   "outputs": [
    {
     "name": "stdout",
     "output_type": "stream",
     "text": [
      "188330000.0\n"
     ]
    }
   ],
   "source": [
    "# O volume atual de um reservatório de água (em metros cúbicos)\n",
    "reservoir_volume = 4.445e8\n",
    "# A quantidade de chuvas de uma tempestade (em metros cúbicos)\n",
    "rainfall = 5e6\n",
    "# Diminuir a variável de precipitação em 10% para\n",
    "rainfall *= 0.9\n",
    "# Adicione a variável rainfall à variável reservoir_volume\n",
    "reservoir_volume += rainfall\n",
    "# Aumentar o reservatório_volume em 5% para contabilizar as águas pluviais que flui\n",
    "reservoir_volume += (reservoir_volume * 5) / 100 \n",
    "# No reservatório nos dias seguintes à tempestade\n",
    "# Diminua o volume do reservatório em 5% para explicar a evaporação\n",
    "reservoir_volume *= 0.4\n",
    "# Subtrair 2.5e5 metros cúbicos do reservoir_volume para explicar a água\n",
    "# Que é canalizado para regiões áridas.\n",
    "reservoir_volume = reservoir_volume - 2.5e5\n",
    "# Imprime o novo valor da variável reservoir_volume\n",
    "print (reservoir_volume)"
   ]
  },
  {
   "cell_type": "code",
   "execution_count": null,
   "metadata": {
    "collapsed": true
   },
   "outputs": [],
   "source": []
  }
 ],
 "metadata": {
  "kernelspec": {
   "display_name": "Python 2",
   "language": "python",
   "name": "python2"
  },
  "language_info": {
   "codemirror_mode": {
    "name": "ipython",
    "version": 2
   },
   "file_extension": ".py",
   "mimetype": "text/x-python",
   "name": "python",
   "nbconvert_exporter": "python",
   "pygments_lexer": "ipython2",
   "version": "2.7.13"
  }
 },
 "nbformat": 4,
 "nbformat_minor": 2
}
