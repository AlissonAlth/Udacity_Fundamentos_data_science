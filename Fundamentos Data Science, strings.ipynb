{
 "cells": [
  {
   "cell_type": "code",
   "execution_count": 5,
   "metadata": {
    "collapsed": false
   },
   "outputs": [
    {
     "name": "stdout",
     "output_type": "stream",
     "text": [
      "Alisson e Ariane\n"
     ]
    }
   ],
   "source": [
    "a1 = \"Alisson\"\n",
    "a2 = \"Ariane\"\n",
    "print a1 + \" e \" + a2"
   ]
  },
  {
   "cell_type": "code",
   "execution_count": 6,
   "metadata": {
    "collapsed": false
   },
   "outputs": [
    {
     "ename": "SyntaxError",
     "evalue": "invalid syntax (<ipython-input-6-19d6efb1c7d7>, line 1)",
     "output_type": "error",
     "traceback": [
      "\u001b[0;36m  File \u001b[0;32m\"<ipython-input-6-19d6efb1c7d7>\"\u001b[0;36m, line \u001b[0;32m1\u001b[0m\n\u001b[0;31m    pet_halibut = \"Why should I be tarred with the epithet \"loony\" merely because I have a pet halibut?\"\u001b[0m\n\u001b[0m                                                                ^\u001b[0m\n\u001b[0;31mSyntaxError\u001b[0m\u001b[0;31m:\u001b[0m invalid syntax\n"
     ]
    }
   ],
   "source": [
    "pet_halibut = \"Why should I be tarred with the epithet \"loony\" merely because I have a pet halibut?\"\n"
   ]
  },
  {
   "cell_type": "code",
   "execution_count": 7,
   "metadata": {
    "collapsed": true
   },
   "outputs": [],
   "source": [
    "pet_halibut = 'Why should I be tarred with the epithet \"loony\" merely because I have a pet halibut?'\n"
   ]
  },
  {
   "cell_type": "code",
   "execution_count": 8,
   "metadata": {
    "collapsed": false
   },
   "outputs": [
    {
     "name": "stdout",
     "output_type": "stream",
     "text": [
      "\"I think you're an encyclopaedia salesman\"\n"
     ]
    }
   ],
   "source": [
    "salesman = '\"I think you\\'re an encyclopaedia salesman\"'\n",
    "print salesman"
   ]
  },
  {
   "cell_type": "markdown",
   "metadata": {},
   "source": [
    "# Quiz: Conserte a aspa\n",
    "A linha de código no quiz seguinte causará um erro de sintaxe (SyntaxError), devido ao uso errado das aspas. Primeiro, execute-a com o Executar Teste para visualizar a mensagem de erro. Depois, resolva o problema de forma que a aspa seja corretamente atribuída à variável messiah.\n"
   ]
  },
  {
   "cell_type": "code",
   "execution_count": 10,
   "metadata": {
    "collapsed": false
   },
   "outputs": [
    {
     "name": "stdout",
     "output_type": "stream",
     "text": [
      "He's not the Messiah, he's a very naughty boy!\n"
     ]
    }
   ],
   "source": [
    "# TODO: Fix this string!\n",
    "messiah = 'He\\'s not the Messiah, he\\'s a very naughty boy!'\n",
    "print messiah"
   ]
  },
  {
   "cell_type": "code",
   "execution_count": 11,
   "metadata": {
    "collapsed": false
   },
   "outputs": [
    {
     "name": "stdout",
     "output_type": "stream",
     "text": [
      "Alisson disse que queria um copo d'aguá\n"
     ]
    }
   ],
   "source": [
    "a = \"Alisson disse que queria um copo d\\'aguá\"\n",
    "print a"
   ]
  },
  {
   "cell_type": "markdown",
   "metadata": {},
   "source": [
    "QUESTION 2 OF 3\n",
    "\n",
    "Nós já vimos como o tipo dos objetos afetará a maneira como os operadores trabalham com eles. Qual será a saída deste código?\n",
    "\n",
    "coconut_count = \"34\"\n",
    "mango_count = \"15\"\n",
    "tropical_fruit_count = coconut_count + mango_count\n",
    "print(tropical_fruit_count)"
   ]
  },
  {
   "cell_type": "code",
   "execution_count": 12,
   "metadata": {
    "collapsed": false
   },
   "outputs": [
    {
     "name": "stdout",
     "output_type": "stream",
     "text": [
      "3415\n"
     ]
    }
   ],
   "source": [
    "coconut_count = \"34\"\n",
    "mango_count = \"15\"\n",
    "tropical_fruit_count = coconut_count + mango_count\n",
    "print(tropical_fruit_count)"
   ]
  },
  {
   "cell_type": "markdown",
   "metadata": {},
   "source": [
    "A resposta correta é 3415 e tropical_fruit_count é uma string. Isso ocorre porque mesmo que os caracteres dentro das cadeias coconut_count e mango_count sejam números, os valores da variável coconut_count e mango_count são strings e são tratados como strings quando se trata do operador + que está sendo aplicado.\n",
    "Devido aos seus parênteses, isso o tornou uma string\n"
   ]
  },
  {
   "cell_type": "code",
   "execution_count": 13,
   "metadata": {
    "collapsed": false
   },
   "outputs": [
    {
     "data": {
      "text/plain": [
       "str"
      ]
     },
     "execution_count": 13,
     "metadata": {},
     "output_type": "execute_result"
    }
   ],
   "source": [
    "type(coconut_count)"
   ]
  },
  {
   "cell_type": "code",
   "execution_count": 15,
   "metadata": {
    "collapsed": false
   },
   "outputs": [
    {
     "data": {
      "text/plain": [
       "str"
      ]
     },
     "execution_count": 15,
     "metadata": {},
     "output_type": "execute_result"
    }
   ],
   "source": [
    "type(mango_count)"
   ]
  },
  {
   "cell_type": "markdown",
   "metadata": {},
   "source": [
    "Quiz: Escreva uma mensagem de log do servidor\n",
    "Neste quiz de programação, você vai utilizar o que aprendeu sobre strings para escrever uma mensagem de log de um servidor.\n",
    "\n",
    "Você receberá um dado de exemplo com o usuário, o horário da visita e o site acessado. Você deve usar as variáveis fornecidas e as técnicas aprendidas para imprimir uma mensagem de log como esta (com o usuário, url e registro de tempo substituídos pelos valores apropriados das variáveis):\n",
    "\n",
    "Yogesh accessed the site http://petshop.com/pets/reptiles/pythons at 16:20.\n",
    "\n",
    "Utilize o botão Executar Teste para ver os resultados enquanto você trabalha na codificação parte por parte."
   ]
  },
  {
   "cell_type": "code",
   "execution_count": 39,
   "metadata": {
    "collapsed": false
   },
   "outputs": [
    {
     "name": "stdout",
     "output_type": "stream",
     "text": [
      "Alisson accessed the site http://www.webmotors.com.br at 08:16\n"
     ]
    }
   ],
   "source": [
    "# 1 \n",
    "username = \"Alisson\"\n",
    "timestamp = \"08:16\"\n",
    "url = \"http://www.webmotors.com.br\"\n",
    "print(username + \" accessed the site \" + url + \" at \" + timestamp)"
   ]
  },
  {
   "cell_type": "code",
   "execution_count": 40,
   "metadata": {
    "collapsed": false
   },
   "outputs": [
    {
     "name": "stdout",
     "output_type": "stream",
     "text": [
      "Kinari accessed the site http://petshop.com/pets/mammals/cats at 04:50.\n",
      "Gi accessed the site http://codecademy.com.br/html-&-css at 22:00.\n"
     ]
    }
   ],
   "source": [
    "# Conforme a pagina da Udacity\n",
    "\n",
    "username = \"Kinari\"\n",
    "timestamp = \"04:50\"\n",
    "url = \"http://petshop.com/pets/mammals/cats\"\n",
    "print(username + \" accessed the site \" + url + \" at \" + timestamp + \".\")\n",
    "\n",
    "# TODO: print a log message incorporating the strings above.\n",
    "# The message should be use the same format as this one:\n",
    "# \"Yogesh accessed the site http://petshop.com/pets/reptiles/pythons at 16:20.\"\n",
    "\n",
    "username = \"Gi\"\n",
    "timestamp = \"22:00\"\n",
    "url = \"http://codecademy.com.br/html-&-css\"\n",
    "print(username + \" accessed the site \" + url + \" at \" + timestamp+ \".\")"
   ]
  },
  {
   "cell_type": "markdown",
   "metadata": {},
   "source": [
    "# Funções embutidas"
   ]
  },
  {
   "cell_type": "code",
   "execution_count": 45,
   "metadata": {
    "collapsed": false
   },
   "outputs": [
    {
     "name": "stdout",
     "output_type": "stream",
     "text": [
      "7\n"
     ]
    }
   ],
   "source": [
    "udacity_lenght = len(\"Udacity\")\n",
    "print udacity_lenght"
   ]
  },
  {
   "cell_type": "code",
   "execution_count": null,
   "metadata": {
    "collapsed": true
   },
   "outputs": [],
   "source": []
  }
 ],
 "metadata": {
  "kernelspec": {
   "display_name": "Python 2",
   "language": "python",
   "name": "python2"
  },
  "language_info": {
   "codemirror_mode": {
    "name": "ipython",
    "version": 2
   },
   "file_extension": ".py",
   "mimetype": "text/x-python",
   "name": "python",
   "nbconvert_exporter": "python",
   "pygments_lexer": "ipython2",
   "version": "2.7.13"
  }
 },
 "nbformat": 4,
 "nbformat_minor": 2
}
